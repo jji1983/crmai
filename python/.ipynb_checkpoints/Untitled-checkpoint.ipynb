{
 "cells": [
  {
   "cell_type": "code",
   "execution_count": null,
   "metadata": {},
   "outputs": [
    {
     "name": "stdout",
     "output_type": "stream",
     "text": [
      " * Serving Flask app \"__main__\" (lazy loading)\n",
      " * Environment: production\n",
      "   WARNING: This is a development server. Do not use it in a production deployment.\n",
      "   Use a production WSGI server instead.\n",
      " * Debug mode: off\n"
     ]
    },
    {
     "name": "stderr",
     "output_type": "stream",
     "text": [
      " * Running on http://0.0.0.0:5000/ (Press CTRL+C to quit)\n",
      "127.0.0.1 - - [07/Oct/2019 15:39:26] \"\u001b[37mPOST /preprocess HTTP/1.1\u001b[0m\" 200 -\n"
     ]
    },
    {
     "name": "stdout",
     "output_type": "stream",
     "text": [
      "<flask_restful.reqparse.RequestParser object at 0x000001C2AB65F2E8>\n",
      "None\n"
     ]
    },
    {
     "name": "stderr",
     "output_type": "stream",
     "text": [
      "127.0.0.1 - - [07/Oct/2019 16:04:12] \"\u001b[37mPOST /preprocess HTTP/1.1\u001b[0m\" 200 -\n"
     ]
    },
    {
     "name": "stdout",
     "output_type": "stream",
     "text": [
      "<flask_restful.reqparse.RequestParser object at 0x000001C2AB65FAC8>\n",
      "None\n"
     ]
    },
    {
     "name": "stderr",
     "output_type": "stream",
     "text": [
      "127.0.0.1 - - [07/Oct/2019 16:06:15] \"\u001b[37mPOST /preprocess HTTP/1.1\u001b[0m\" 200 -\n"
     ]
    },
    {
     "name": "stdout",
     "output_type": "stream",
     "text": [
      "<flask_restful.reqparse.RequestParser object at 0x000001C2AB65F860>\n",
      "None\n"
     ]
    },
    {
     "name": "stderr",
     "output_type": "stream",
     "text": [
      "127.0.0.1 - - [07/Oct/2019 16:06:50] \"\u001b[37mPOST /preprocess HTTP/1.1\u001b[0m\" 200 -\n"
     ]
    },
    {
     "name": "stdout",
     "output_type": "stream",
     "text": [
      "<flask_restful.reqparse.RequestParser object at 0x000001C2AB667AC8>\n",
      "<flask_restful.reqparse.RequestParser object at 0x000001C2AB667898>\n",
      "1-1001\n"
     ]
    },
    {
     "name": "stderr",
     "output_type": "stream",
     "text": [
      "127.0.0.1 - - [07/Oct/2019 16:07:06] \"\u001b[37mPOST /preprocess HTTP/1.1\u001b[0m\" 200 -\n"
     ]
    },
    {
     "name": "stdout",
     "output_type": "stream",
     "text": [
      "b\n",
      "<flask_restful.reqparse.RequestParser object at 0x000001C2AB667588>\n",
      "1-1001\n"
     ]
    },
    {
     "name": "stderr",
     "output_type": "stream",
     "text": [
      "127.0.0.1 - - [07/Oct/2019 16:07:23] \"\u001b[37mPOST /preprocess HTTP/1.1\u001b[0m\" 200 -\n"
     ]
    },
    {
     "name": "stdout",
     "output_type": "stream",
     "text": [
      "b\n"
     ]
    },
    {
     "name": "stderr",
     "output_type": "stream",
     "text": [
      "127.0.0.1 - - [07/Oct/2019 16:10:13] \"\u001b[37mOPTIONS /preprocess HTTP/1.1\u001b[0m\" 200 -\n"
     ]
    },
    {
     "name": "stdout",
     "output_type": "stream",
     "text": [
      "<flask_restful.reqparse.RequestParser object at 0x000001C2AB635240>\n",
      "1-1001\n"
     ]
    },
    {
     "name": "stderr",
     "output_type": "stream",
     "text": [
      "127.0.0.1 - - [07/Oct/2019 16:10:17] \"\u001b[37mPOST /preprocess HTTP/1.1\u001b[0m\" 200 -\n"
     ]
    },
    {
     "name": "stdout",
     "output_type": "stream",
     "text": [
      "b\n"
     ]
    },
    {
     "name": "stderr",
     "output_type": "stream",
     "text": [
      "127.0.0.1 - - [07/Oct/2019 16:10:41] \"\u001b[37mOPTIONS /preprocess HTTP/1.1\u001b[0m\" 200 -\n"
     ]
    },
    {
     "name": "stdout",
     "output_type": "stream",
     "text": [
      "<flask_restful.reqparse.RequestParser object at 0x000001C2AB667BA8>\n",
      "1-1001\n"
     ]
    },
    {
     "name": "stderr",
     "output_type": "stream",
     "text": [
      "127.0.0.1 - - [07/Oct/2019 16:10:45] \"\u001b[37mPOST /preprocess HTTP/1.1\u001b[0m\" 200 -\n"
     ]
    },
    {
     "name": "stdout",
     "output_type": "stream",
     "text": [
      "b\n"
     ]
    },
    {
     "name": "stderr",
     "output_type": "stream",
     "text": [
      "127.0.0.1 - - [07/Oct/2019 16:11:44] \"\u001b[37mOPTIONS /preprocess HTTP/1.1\u001b[0m\" 200 -\n"
     ]
    },
    {
     "name": "stdout",
     "output_type": "stream",
     "text": [
      "<flask_restful.reqparse.RequestParser object at 0x000001C2AB65F7B8>\n",
      "1-1001\n"
     ]
    },
    {
     "name": "stderr",
     "output_type": "stream",
     "text": [
      "127.0.0.1 - - [07/Oct/2019 16:11:49] \"\u001b[37mPOST /preprocess HTTP/1.1\u001b[0m\" 200 -\n"
     ]
    },
    {
     "name": "stdout",
     "output_type": "stream",
     "text": [
      "b\n"
     ]
    },
    {
     "name": "stderr",
     "output_type": "stream",
     "text": [
      "127.0.0.1 - - [07/Oct/2019 16:14:15] \"\u001b[37mOPTIONS /preprocess HTTP/1.1\u001b[0m\" 200 -\n"
     ]
    },
    {
     "name": "stdout",
     "output_type": "stream",
     "text": [
      "<flask_restful.reqparse.RequestParser object at 0x000001C2AB65F9B0>\n",
      "1-1001\n"
     ]
    },
    {
     "name": "stderr",
     "output_type": "stream",
     "text": [
      "127.0.0.1 - - [07/Oct/2019 16:14:20] \"\u001b[37mPOST /preprocess HTTP/1.1\u001b[0m\" 200 -\n"
     ]
    },
    {
     "name": "stdout",
     "output_type": "stream",
     "text": [
      "b\n"
     ]
    },
    {
     "name": "stderr",
     "output_type": "stream",
     "text": [
      "127.0.0.1 - - [07/Oct/2019 16:15:03] \"\u001b[37mOPTIONS /preprocess HTTP/1.1\u001b[0m\" 200 -\n"
     ]
    },
    {
     "name": "stdout",
     "output_type": "stream",
     "text": [
      "<flask_restful.reqparse.RequestParser object at 0x000001C2AB6356D8>\n",
      "1-1001\n"
     ]
    },
    {
     "name": "stderr",
     "output_type": "stream",
     "text": [
      "127.0.0.1 - - [07/Oct/2019 16:15:08] \"\u001b[37mPOST /preprocess HTTP/1.1\u001b[0m\" 200 -\n"
     ]
    },
    {
     "name": "stdout",
     "output_type": "stream",
     "text": [
      "b\n"
     ]
    },
    {
     "name": "stderr",
     "output_type": "stream",
     "text": [
      "127.0.0.1 - - [07/Oct/2019 16:16:55] \"\u001b[37mOPTIONS /preprocess HTTP/1.1\u001b[0m\" 200 -\n"
     ]
    },
    {
     "name": "stdout",
     "output_type": "stream",
     "text": [
      "<flask_restful.reqparse.RequestParser object at 0x000001C2AB635CC0>\n",
      "1-1001\n"
     ]
    },
    {
     "name": "stderr",
     "output_type": "stream",
     "text": [
      "127.0.0.1 - - [07/Oct/2019 16:17:00] \"\u001b[37mPOST /preprocess HTTP/1.1\u001b[0m\" 200 -\n"
     ]
    },
    {
     "name": "stdout",
     "output_type": "stream",
     "text": [
      "b\n"
     ]
    },
    {
     "name": "stderr",
     "output_type": "stream",
     "text": [
      "127.0.0.1 - - [07/Oct/2019 16:17:44] \"\u001b[37mOPTIONS /preprocess HTTP/1.1\u001b[0m\" 200 -\n"
     ]
    },
    {
     "name": "stdout",
     "output_type": "stream",
     "text": [
      "<flask_restful.reqparse.RequestParser object at 0x000001C2AB642320>\n",
      "1-1001\n"
     ]
    },
    {
     "name": "stderr",
     "output_type": "stream",
     "text": [
      "127.0.0.1 - - [07/Oct/2019 16:17:49] \"\u001b[37mPOST /preprocess HTTP/1.1\u001b[0m\" 200 -\n"
     ]
    },
    {
     "name": "stdout",
     "output_type": "stream",
     "text": [
      "b\n"
     ]
    },
    {
     "name": "stderr",
     "output_type": "stream",
     "text": [
      "127.0.0.1 - - [07/Oct/2019 16:24:50] \"\u001b[37mOPTIONS /preprocess HTTP/1.1\u001b[0m\" 200 -\n"
     ]
    },
    {
     "name": "stdout",
     "output_type": "stream",
     "text": [
      "<flask_restful.reqparse.RequestParser object at 0x000001C2AB6428D0>\n",
      "1-1001\n"
     ]
    },
    {
     "name": "stderr",
     "output_type": "stream",
     "text": [
      "127.0.0.1 - - [07/Oct/2019 16:24:54] \"\u001b[37mPOST /preprocess HTTP/1.1\u001b[0m\" 200 -\n"
     ]
    },
    {
     "name": "stdout",
     "output_type": "stream",
     "text": [
      "b\n"
     ]
    },
    {
     "name": "stderr",
     "output_type": "stream",
     "text": [
      "127.0.0.1 - - [07/Oct/2019 16:32:01] \"\u001b[37mOPTIONS /preprocess HTTP/1.1\u001b[0m\" 200 -\n"
     ]
    },
    {
     "name": "stdout",
     "output_type": "stream",
     "text": [
      "<flask_restful.reqparse.RequestParser object at 0x000001C2AB642EB8>\n",
      "1-1001\n"
     ]
    },
    {
     "name": "stderr",
     "output_type": "stream",
     "text": [
      "127.0.0.1 - - [07/Oct/2019 16:32:06] \"\u001b[37mPOST /preprocess HTTP/1.1\u001b[0m\" 200 -\n"
     ]
    },
    {
     "name": "stdout",
     "output_type": "stream",
     "text": [
      "b\n"
     ]
    },
    {
     "name": "stderr",
     "output_type": "stream",
     "text": [
      "127.0.0.1 - - [07/Oct/2019 16:33:11] \"\u001b[37mOPTIONS /preprocess HTTP/1.1\u001b[0m\" 200 -\n"
     ]
    },
    {
     "name": "stdout",
     "output_type": "stream",
     "text": [
      "<flask_restful.reqparse.RequestParser object at 0x000001C2AB6474E0>\n",
      "1-1001\n"
     ]
    },
    {
     "name": "stderr",
     "output_type": "stream",
     "text": [
      "127.0.0.1 - - [07/Oct/2019 16:33:16] \"\u001b[37mPOST /preprocess HTTP/1.1\u001b[0m\" 200 -\n"
     ]
    },
    {
     "name": "stdout",
     "output_type": "stream",
     "text": [
      "b\n"
     ]
    },
    {
     "name": "stderr",
     "output_type": "stream",
     "text": [
      "127.0.0.1 - - [07/Oct/2019 16:33:42] \"\u001b[37mOPTIONS /preprocess HTTP/1.1\u001b[0m\" 200 -\n"
     ]
    },
    {
     "name": "stdout",
     "output_type": "stream",
     "text": [
      "<flask_restful.reqparse.RequestParser object at 0x000001C2AB647AC8>\n",
      "1-1001\n"
     ]
    },
    {
     "name": "stderr",
     "output_type": "stream",
     "text": [
      "127.0.0.1 - - [07/Oct/2019 16:33:46] \"\u001b[37mPOST /preprocess HTTP/1.1\u001b[0m\" 200 -\n"
     ]
    },
    {
     "name": "stdout",
     "output_type": "stream",
     "text": [
      "b\n"
     ]
    },
    {
     "name": "stderr",
     "output_type": "stream",
     "text": [
      "127.0.0.1 - - [07/Oct/2019 16:35:17] \"\u001b[37mOPTIONS /preprocess HTTP/1.1\u001b[0m\" 200 -\n"
     ]
    },
    {
     "name": "stdout",
     "output_type": "stream",
     "text": [
      "<flask_restful.reqparse.RequestParser object at 0x000001C2AB650198>\n",
      "1-1001\n"
     ]
    },
    {
     "name": "stderr",
     "output_type": "stream",
     "text": [
      "127.0.0.1 - - [07/Oct/2019 16:35:22] \"\u001b[37mPOST /preprocess HTTP/1.1\u001b[0m\" 200 -\n"
     ]
    },
    {
     "name": "stdout",
     "output_type": "stream",
     "text": [
      "b\n"
     ]
    },
    {
     "name": "stderr",
     "output_type": "stream",
     "text": [
      "127.0.0.1 - - [07/Oct/2019 16:35:32] \"\u001b[37mOPTIONS /preprocess HTTP/1.1\u001b[0m\" 200 -\n"
     ]
    },
    {
     "name": "stdout",
     "output_type": "stream",
     "text": [
      "<flask_restful.reqparse.RequestParser object at 0x000001C2AB6507F0>\n",
      "1-1001\n"
     ]
    },
    {
     "name": "stderr",
     "output_type": "stream",
     "text": [
      "127.0.0.1 - - [07/Oct/2019 16:35:36] \"\u001b[37mPOST /preprocess HTTP/1.1\u001b[0m\" 200 -\n"
     ]
    },
    {
     "name": "stdout",
     "output_type": "stream",
     "text": [
      "b\n"
     ]
    },
    {
     "name": "stderr",
     "output_type": "stream",
     "text": [
      "127.0.0.1 - - [07/Oct/2019 16:37:34] \"\u001b[37mOPTIONS /preprocess HTTP/1.1\u001b[0m\" 200 -\n"
     ]
    },
    {
     "name": "stdout",
     "output_type": "stream",
     "text": [
      "<flask_restful.reqparse.RequestParser object at 0x000001C2AB650E48>\n",
      "1-1001\n"
     ]
    },
    {
     "name": "stderr",
     "output_type": "stream",
     "text": [
      "127.0.0.1 - - [07/Oct/2019 16:37:39] \"\u001b[37mPOST /preprocess HTTP/1.1\u001b[0m\" 200 -\n"
     ]
    },
    {
     "name": "stdout",
     "output_type": "stream",
     "text": [
      "b\n"
     ]
    },
    {
     "name": "stderr",
     "output_type": "stream",
     "text": [
      "127.0.0.1 - - [07/Oct/2019 16:38:31] \"\u001b[37mOPTIONS /preprocess HTTP/1.1\u001b[0m\" 200 -\n"
     ]
    },
    {
     "name": "stdout",
     "output_type": "stream",
     "text": [
      "<flask_restful.reqparse.RequestParser object at 0x000001C2AB6514E0>\n",
      "1-1001\n"
     ]
    },
    {
     "name": "stderr",
     "output_type": "stream",
     "text": [
      "127.0.0.1 - - [07/Oct/2019 16:38:36] \"\u001b[37mPOST /preprocess HTTP/1.1\u001b[0m\" 200 -\n"
     ]
    },
    {
     "name": "stdout",
     "output_type": "stream",
     "text": [
      "b\n"
     ]
    },
    {
     "name": "stderr",
     "output_type": "stream",
     "text": [
      "127.0.0.1 - - [07/Oct/2019 16:38:58] \"\u001b[37mOPTIONS /preprocess HTTP/1.1\u001b[0m\" 200 -\n"
     ]
    },
    {
     "name": "stdout",
     "output_type": "stream",
     "text": [
      "<flask_restful.reqparse.RequestParser object at 0x000001C2AB651B38>\n",
      "1-1001\n"
     ]
    },
    {
     "name": "stderr",
     "output_type": "stream",
     "text": [
      "127.0.0.1 - - [07/Oct/2019 16:39:03] \"\u001b[37mPOST /preprocess HTTP/1.1\u001b[0m\" 200 -\n"
     ]
    },
    {
     "name": "stdout",
     "output_type": "stream",
     "text": [
      "b\n"
     ]
    },
    {
     "name": "stderr",
     "output_type": "stream",
     "text": [
      "127.0.0.1 - - [07/Oct/2019 16:39:27] \"\u001b[37mOPTIONS /preprocess HTTP/1.1\u001b[0m\" 200 -\n"
     ]
    },
    {
     "name": "stdout",
     "output_type": "stream",
     "text": [
      "<flask_restful.reqparse.RequestParser object at 0x000001C2AB651208>\n",
      "1-1001\n"
     ]
    },
    {
     "name": "stderr",
     "output_type": "stream",
     "text": [
      "127.0.0.1 - - [07/Oct/2019 16:39:31] \"\u001b[37mPOST /preprocess HTTP/1.1\u001b[0m\" 200 -\n"
     ]
    },
    {
     "name": "stdout",
     "output_type": "stream",
     "text": [
      "b\n"
     ]
    },
    {
     "name": "stderr",
     "output_type": "stream",
     "text": [
      "127.0.0.1 - - [07/Oct/2019 16:40:03] \"\u001b[37mOPTIONS /preprocess HTTP/1.1\u001b[0m\" 200 -\n"
     ]
    },
    {
     "name": "stdout",
     "output_type": "stream",
     "text": [
      "<flask_restful.reqparse.RequestParser object at 0x000001C2AB6514A8>\n",
      "1-1001\n"
     ]
    },
    {
     "name": "stderr",
     "output_type": "stream",
     "text": [
      "127.0.0.1 - - [07/Oct/2019 16:40:08] \"\u001b[37mPOST /preprocess HTTP/1.1\u001b[0m\" 200 -\n"
     ]
    },
    {
     "name": "stdout",
     "output_type": "stream",
     "text": [
      "b\n"
     ]
    },
    {
     "name": "stderr",
     "output_type": "stream",
     "text": [
      "127.0.0.1 - - [07/Oct/2019 16:40:31] \"\u001b[37mOPTIONS /preprocess HTTP/1.1\u001b[0m\" 200 -\n"
     ]
    },
    {
     "name": "stdout",
     "output_type": "stream",
     "text": [
      "<flask_restful.reqparse.RequestParser object at 0x000001C2AB6505F8>\n",
      "1-1001\n"
     ]
    },
    {
     "name": "stderr",
     "output_type": "stream",
     "text": [
      "127.0.0.1 - - [07/Oct/2019 16:40:36] \"\u001b[37mPOST /preprocess HTTP/1.1\u001b[0m\" 200 -\n"
     ]
    },
    {
     "name": "stdout",
     "output_type": "stream",
     "text": [
      "b\n"
     ]
    },
    {
     "name": "stderr",
     "output_type": "stream",
     "text": [
      "127.0.0.1 - - [07/Oct/2019 16:41:19] \"\u001b[37mOPTIONS /preprocess HTTP/1.1\u001b[0m\" 200 -\n"
     ]
    },
    {
     "name": "stdout",
     "output_type": "stream",
     "text": [
      "<flask_restful.reqparse.RequestParser object at 0x000001C2AB650710>\n",
      "1-1001\n"
     ]
    },
    {
     "name": "stderr",
     "output_type": "stream",
     "text": [
      "127.0.0.1 - - [07/Oct/2019 16:41:24] \"\u001b[37mPOST /preprocess HTTP/1.1\u001b[0m\" 200 -\n"
     ]
    },
    {
     "name": "stdout",
     "output_type": "stream",
     "text": [
      "b\n"
     ]
    },
    {
     "name": "stderr",
     "output_type": "stream",
     "text": [
      "127.0.0.1 - - [07/Oct/2019 16:42:07] \"\u001b[37mOPTIONS /preprocess HTTP/1.1\u001b[0m\" 200 -\n"
     ]
    },
    {
     "name": "stdout",
     "output_type": "stream",
     "text": [
      "<flask_restful.reqparse.RequestParser object at 0x000001C2AB647E80>\n",
      "1-1001\n"
     ]
    },
    {
     "name": "stderr",
     "output_type": "stream",
     "text": [
      "127.0.0.1 - - [07/Oct/2019 16:42:11] \"\u001b[37mPOST /preprocess HTTP/1.1\u001b[0m\" 200 -\n"
     ]
    },
    {
     "name": "stdout",
     "output_type": "stream",
     "text": [
      "b\n"
     ]
    },
    {
     "name": "stderr",
     "output_type": "stream",
     "text": [
      "127.0.0.1 - - [07/Oct/2019 16:43:00] \"\u001b[37mOPTIONS /preprocess HTTP/1.1\u001b[0m\" 200 -\n"
     ]
    },
    {
     "name": "stdout",
     "output_type": "stream",
     "text": [
      "<flask_restful.reqparse.RequestParser object at 0x000001C2AB647208>\n",
      "1-1001\n"
     ]
    },
    {
     "name": "stderr",
     "output_type": "stream",
     "text": [
      "127.0.0.1 - - [07/Oct/2019 16:43:05] \"\u001b[37mPOST /preprocess HTTP/1.1\u001b[0m\" 200 -\n"
     ]
    },
    {
     "name": "stdout",
     "output_type": "stream",
     "text": [
      "b\n"
     ]
    },
    {
     "name": "stderr",
     "output_type": "stream",
     "text": [
      "127.0.0.1 - - [07/Oct/2019 16:43:52] \"\u001b[37mOPTIONS /preprocess HTTP/1.1\u001b[0m\" 200 -\n"
     ]
    },
    {
     "name": "stdout",
     "output_type": "stream",
     "text": [
      "<flask_restful.reqparse.RequestParser object at 0x000001C2AB6513C8>\n",
      "1-1001\n"
     ]
    },
    {
     "name": "stderr",
     "output_type": "stream",
     "text": [
      "127.0.0.1 - - [07/Oct/2019 16:43:57] \"\u001b[37mPOST /preprocess HTTP/1.1\u001b[0m\" 200 -\n"
     ]
    },
    {
     "name": "stdout",
     "output_type": "stream",
     "text": [
      "b\n"
     ]
    },
    {
     "name": "stderr",
     "output_type": "stream",
     "text": [
      "127.0.0.1 - - [07/Oct/2019 16:46:15] \"\u001b[37mOPTIONS /preprocess HTTP/1.1\u001b[0m\" 200 -\n"
     ]
    },
    {
     "name": "stdout",
     "output_type": "stream",
     "text": [
      "<flask_restful.reqparse.RequestParser object at 0x000001C2AB635400>\n",
      "1-1001\n"
     ]
    },
    {
     "name": "stderr",
     "output_type": "stream",
     "text": [
      "127.0.0.1 - - [07/Oct/2019 16:46:19] \"\u001b[37mPOST /preprocess HTTP/1.1\u001b[0m\" 200 -\n"
     ]
    },
    {
     "name": "stdout",
     "output_type": "stream",
     "text": [
      "b\n"
     ]
    }
   ],
   "source": [
    "#-*- coding: utf-8 -*-\n",
    "import subprocess\n",
    "from flask import Flask, render_template, request\n",
    "from flask_restful import Resource, Api, reqparse\n",
    "from flask_httpauth import HTTPBasicAuth\n",
    "from flask_cors import CORS, cross_origin\n",
    "\n",
    "app = Flask(__name__)\n",
    "auth = HTTPBasicAuth()\n",
    "cors = CORS(app, resources={\n",
    "    r\"/preprocess\":{\"origin\": \"*\"},\n",
    "    r\"/deeplearning\":{\"origin\":\"*\"},\n",
    "    r\"/machinelearning\":{\"origin\":\"*\"},\n",
    "    r\"/predictservice_ml\":{\"origin\":\"*\"},\n",
    "    r\"/predictservice_dl\":{\"origin\":\"*\"},\n",
    "    })\n",
    "\n",
    "# 전처리 호출\n",
    "@app.route('/preprocess', methods = ['GET','POST'])\n",
    "def preprocess():\n",
    "\ttry:\n",
    "\t\tif request.method == 'POST':\n",
    "\t\t\t# 입력변수\n",
    "\t\t\tparser = reqparse.RequestParser()\n",
    "\t\t\tprint(parser)            \n",
    "\t\t\tparser.add_argument('src_id', type=str)\n",
    "\t\t\targs = parser.parse_args()\n",
    "            \n",
    "\t\t\t# 캠페인 Id\n",
    "\t\t\tsrc_id = args['src_id']\n",
    "\t\t\t# 전처리 py 호출\n",
    "\t\t\tsubprocess.call(['python', 'preprocess.py', src_id])\n",
    "\t\t\t# 결과 리턴\n",
    "\t\t\treturn {'result_cd': '0000',\n",
    "\t\t\t        'result_msg': 'Ok.'}\n",
    "\texcept Exception as e:\n",
    "\t\treturn {'resutl_cd': '1000',\n",
    "\t\t\t\t'result_msg': str(e)}\n",
    "\n",
    "# 딥러닝 호출\n",
    "@app.route('/deeplearning', methods = ['GET','POST'])\n",
    "def deeplearning():\n",
    "\ttry:\n",
    "\t\tif request.method == 'POST':\n",
    "\t\t\t# 입력변수\n",
    "\t\t\tparser = reqparse.RequestParser()\n",
    "\t\t\tparser.add_argument('src_id', type=str)\n",
    "\t\t\targs = parser.parse_args()\t\t\n",
    "\n",
    "\t\t\t# 캠페인 Id\n",
    "\t\t\tsrc_id = args['src_id']\n",
    "\n",
    "\t\t\t# 딥러닝 호출\n",
    "\t\t\tsubprocess.call(['python', 'deeplearning.py', src_id])\n",
    "\t\t\treturn {'result_cd': '0000',\n",
    "\t\t\t        'result_msg': 'Ok.'}\n",
    "\texcept Exception as e:\n",
    "\t\treturn {'resutl_cd': '1000',\n",
    "\t\t\t\t'result_msg': str(e)}\n",
    "\n",
    "# 머신러닝 호출\n",
    "@app.route('/machinelearning', methods = ['GET','POST'])\n",
    "def machinelearning():\n",
    "\ttry:\n",
    "\t\tif request.method == 'POST':\n",
    "\t\t\t# 입력변수\n",
    "\t\t\tparser = reqparse.RequestParser()\n",
    "\t\t\tparser.add_argument('src_id', type=str)\n",
    "\t\t\targs = parser.parse_args()\t\t\t\n",
    "\n",
    "\t\t\t# 캠페인 Id\n",
    "\t\t\tsrc_id = args['src_id']\n",
    "\n",
    "\t\t\t# 딥러닝 호출\n",
    "\t\t\tsubprocess.call(['python', 'machinelearning.py', src_id])\n",
    "\t\t\treturn {'result_cd': '0000',\n",
    "\t\t\t        'result_msg': 'Ok.'}\n",
    "\texcept Exception as e:\n",
    "\t\treturn {'resutl_cd': '1000',\n",
    "\t\t\t\t'result_msg': str(e)}\n",
    "\n",
    "# 머신러닝 예측 서비스 호출\n",
    "@app.route('/predictservice_ml', methods = ['GET','POST'])\n",
    "def predictservice_ml():\n",
    "\ttry:\n",
    "\t\tif request.method == 'POST':\n",
    "\t\t\t# 입력변수\n",
    "\t\t\tparser = reqparse.RequestParser()\n",
    "\t\t\tparser.add_argument('src_id', type=str)\n",
    "\t\t\targs = parser.parse_args()\n",
    "\n",
    "\t\t\t# 캠페인 Id\n",
    "\t\t\tsrc_id = args['src_id']\n",
    "\n",
    "\t\t\t# 딥러닝 호출\n",
    "\t\t\tsubprocess.call(['python', 'predictservice_ml.py', src_id])\n",
    "\t\t\treturn {'result_cd': '0000',\n",
    "\t\t\t        'result_msg': 'Ok.'}\n",
    "\texcept Exception as e:\n",
    "\t\treturn {'resutl_cd': '1000',\n",
    "\t\t\t\t'result_msg': str(e)}\n",
    "\n",
    "# 딥러닝 예측 서비스 호출\n",
    "@app.route('/predictservice_dl', methods = ['GET','POST'])\n",
    "def predictservice_dl():\n",
    "\ttry:\n",
    "\t\tif request.method == 'POST':\n",
    "\t\t\t# 입력변수\n",
    "\t\t\tparser = reqparse.RequestParser()\n",
    "\t\t\tparser.add_argument('src_id', type=str)\n",
    "\t\t\targs = parser.parse_args()\n",
    "\n",
    "\t\t\t# 캠페인 Id\n",
    "\t\t\tsrc_id = args['src_id']\n",
    "\n",
    "\t\t\t# 딥러닝 호출\n",
    "\t\t\tsubprocess.call(['python', 'predictservice_dl.py', src_id])\n",
    "\t\t\treturn {'result_cd': '0000',\n",
    "\t\t\t        'result_msg': 'Ok.'}\n",
    "\texcept Exception as e:\n",
    "\t\treturn {'resutl_cd': '1000',\n",
    "\t\t\t\t'result_msg': str(e)}\n",
    "\n",
    "@app.route('/')\n",
    "def main():\n",
    "\tprint('main')\n",
    "\treturn 'main'\n",
    "\n",
    "if __name__ == '__main__':\n",
    "\t# 서버 실행\n",
    "\tapp.run(debug = False, host=\"0.0.0.0\", port=\"5000\")\n",
    "\t#app.run(debug=True, processes=2, host=\"0.0.0.0\", port=\"9900\")\n"
   ]
  },
  {
   "cell_type": "code",
   "execution_count": null,
   "metadata": {},
   "outputs": [],
   "source": []
  }
 ],
 "metadata": {
  "kernelspec": {
   "display_name": "Python 3",
   "language": "python",
   "name": "python3"
  },
  "language_info": {
   "codemirror_mode": {
    "name": "ipython",
    "version": 3
   },
   "file_extension": ".py",
   "mimetype": "text/x-python",
   "name": "python",
   "nbconvert_exporter": "python",
   "pygments_lexer": "ipython3",
   "version": "3.7.3"
  }
 },
 "nbformat": 4,
 "nbformat_minor": 2
}
